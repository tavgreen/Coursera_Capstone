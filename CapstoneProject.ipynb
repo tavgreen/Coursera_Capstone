{
  "nbformat": 4,
  "nbformat_minor": 0,
  "metadata": {
    "colab": {
      "name": "CapstoneProject.ipynb",
      "provenance": []
    },
    "kernelspec": {
      "name": "python3",
      "display_name": "Python 3"
    },
    "language_info": {
      "name": "python"
    }
  },
  "cells": [
    {
      "cell_type": "code",
      "metadata": {
        "id": "BOR17OYGNjtz"
      },
      "source": [
        "Write some markdown to explain that this notebook will be mainly used for the capstone project.\n",
        "Import the pandas library as pd.\n",
        "Import the Numpy library as np.\n",
        "Print the following the statement: Hello Capstone Project Course!"
      ],
      "execution_count": null,
      "outputs": []
    },
    {
      "cell_type": "markdown",
      "metadata": {
        "id": "-x_ca7vNNn1d"
      },
      "source": [
        "## CAPSTONE PROJECT\n",
        "### By Octaviano Pratama"
      ]
    },
    {
      "cell_type": "code",
      "metadata": {
        "colab": {
          "base_uri": "https://localhost:8080/"
        },
        "id": "tBxuy77PNs3b",
        "outputId": "ba66672b-b4d1-4253-a031-93db14f07700"
      },
      "source": [
        "import pandas as pd\n",
        "import numpy as np\n",
        "\n",
        "print(\"Hello Capstone Project Course!\")"
      ],
      "execution_count": 1,
      "outputs": [
        {
          "output_type": "stream",
          "text": [
            "Hello Capstone Project Course!\n"
          ],
          "name": "stdout"
        }
      ]
    },
    {
      "cell_type": "code",
      "metadata": {
        "id": "nd51EmDxOD5l"
      },
      "source": [
        ""
      ],
      "execution_count": null,
      "outputs": []
    }
  ]
}